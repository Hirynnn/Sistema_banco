{
 "cells": [
  {
   "cell_type": "code",
   "execution_count": null,
   "id": "6a3cfb53",
   "metadata": {},
   "outputs": [],
   "source": [
    "dia_saque=0\n",
    "x=1\n",
    "conta=0\n",
    "extrato=[]\n",
    "while (x!=0):\n",
    "    x=int(input(\"Digite 0 para terminar a sessão - 1 para depositar - 2 para sacar - 3 para ver o extrato \"))\n",
    "    if (x==1):\n",
    "        valor=int(input(\"Digite quanto deseja depositar: \"))\n",
    "        conta=conta+valor\n",
    "        extrato.append(f\"Valor depositado na conta: R${valor} \")\n",
    "    elif (x==2):\n",
    "        dia_saque=dia_saque+1\n",
    "        if dia_saque>3:\n",
    "            print(\"Você atingiu o limite diario\")\n",
    "            continue\n",
    "        valor=int(input(\"Digite quanto deseja sacar: \"))\n",
    "        if (valor>500):\n",
    "            print(\"O limite por saque é  R$500\")\n",
    "            continue\n",
    "        elif (valor>conta):\n",
    "            print(\"Não há tanto dinheiro na conta!\")\n",
    "            continue\n",
    "        else:\n",
    "            extrato.append(f\"Valor sacado da conta: R${valor}\"))\n",
    "            print(\"Sacando valor\")\n",
    "            conta=conta-valor\n",
    "    elif (x==3):\n",
    "        print(\"Extrato da conta: \")\n",
    "        for e in extrato:\n",
    "            print(\"------\")\n",
    "            print(e)\n",
    "        \n",
    "                   \n",
    "                   \n",
    "    "
   ]
  },
  {
   "cell_type": "code",
   "execution_count": null,
   "id": "46e51d33",
   "metadata": {},
   "outputs": [],
   "source": []
  }
 ],
 "metadata": {
  "kernelspec": {
   "display_name": "Python 3 (ipykernel)",
   "language": "python",
   "name": "python3"
  },
  "language_info": {
   "codemirror_mode": {
    "name": "ipython",
    "version": 3
   },
   "file_extension": ".py",
   "mimetype": "text/x-python",
   "name": "python",
   "nbconvert_exporter": "python",
   "pygments_lexer": "ipython3",
   "version": "3.9.12"
  }
 },
 "nbformat": 4,
 "nbformat_minor": 5
}
